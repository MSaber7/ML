{
  "nbformat": 4,
  "nbformat_minor": 0,
  "metadata": {
    "kernelspec": {
      "display_name": "Python 3",
      "language": "python",
      "name": "python3"
    },
    "language_info": {
      "codemirror_mode": {
        "name": "ipython",
        "version": 3
      },
      "file_extension": ".py",
      "mimetype": "text/x-python",
      "name": "python",
      "nbconvert_exporter": "python",
      "pygments_lexer": "ipython3",
      "version": "3.6.7"
    },
    "colab": {
      "name": "BayesianNetwork.ipynb",
      "provenance": [],
      "include_colab_link": true
    }
  },
  "cells": [
    {
      "cell_type": "markdown",
      "metadata": {
        "id": "view-in-github",
        "colab_type": "text"
      },
      "source": [
        "<a href=\"https://colab.research.google.com/github/MSaber7/ML/blob/master/BayesianNetwork.ipynb\" target=\"_parent\"><img src=\"https://colab.research.google.com/assets/colab-badge.svg\" alt=\"Open In Colab\"/></a>"
      ]
    },
    {
      "cell_type": "markdown",
      "metadata": {
        "id": "ktacJaG8X7OK",
        "colab_type": "text"
      },
      "source": [
        "# Bayesian Network"
      ]
    },
    {
      "cell_type": "markdown",
      "metadata": {
        "id": "3EMVxfdiXevu",
        "colab_type": "text"
      },
      "source": [
        "Explore existing file formats for representing Bayesian networks. Choose any of the formats you like. You can use the existing parsers for networks of the selected file format.\n",
        "\n",
        "Implement two Bayesian probability inference algorithms, which will answers to requests for any subset of variables. For example of the form P(A = ai & B = bj & D = dk), note that C is missing. The first algorithm should calculate the exact answer. The second algorithm should use random sampling to calculate the required probability.\n",
        "\n",
        "For several queries, calculate the probability using both algorithms. For the second algorithm plot dependence of current probability on number sampled instances.\n",
        "\n",
        "Datasets can be taken from http://www.bnlearn.com/bnrepository/ or http://www.cs.huji.ac.il/~galel/Repository/\n"
      ]
    },
    {
      "cell_type": "markdown",
      "metadata": {
        "id": "EBtS42SLYCXk",
        "colab_type": "text"
      },
      "source": [
        "## Library"
      ]
    },
    {
      "cell_type": "code",
      "metadata": {
        "id": "b-QbaH3iXn4E",
        "colab_type": "code",
        "colab": {
          "base_uri": "https://localhost:8080/",
          "height": 34
        },
        "outputId": "cbb27117-b70b-4cd7-ebf6-f2af6f74ed99"
      },
      "source": [
        "pip install pgmpy"
      ],
      "execution_count": 92,
      "outputs": [
        {
          "output_type": "stream",
          "text": [
            "Requirement already satisfied: pgmpy in /usr/local/lib/python3.6/dist-packages (0.1.9)\n"
          ],
          "name": "stdout"
        }
      ]
    },
    {
      "cell_type": "code",
      "metadata": {
        "id": "bhltbJ3ZXcS6",
        "colab_type": "code",
        "colab": {}
      },
      "source": [
        "import numpy as np\n",
        "import os\n",
        "import copy\n",
        "from pgmpy import readwrite\n",
        "from pgmpy.factors.discrete import TabularCPD\n",
        "from pgmpy.inference import VariableElimination\n",
        "import matplotlib.pyplot as plt\n",
        "from pgmpy.inference import VariableElimination\n",
        "from collections import defaultdict\n",
        "from functools import reduce"
      ],
      "execution_count": 0,
      "outputs": []
    },
    {
      "cell_type": "markdown",
      "metadata": {
        "id": "EGLRCE7YuZb0",
        "colab_type": "text"
      },
      "source": [
        "## Load Data"
      ]
    },
    {
      "cell_type": "code",
      "metadata": {
        "id": "b5nLq5ngk9-4",
        "colab_type": "code",
        "colab": {
          "base_uri": "https://localhost:8080/",
          "height": 125
        },
        "outputId": "d4093205-7f3c-481b-cb5a-c942f08759eb"
      },
      "source": [
        "from google.colab import drive\n",
        "drive.mount('/content/drive')"
      ],
      "execution_count": 5,
      "outputs": [
        {
          "output_type": "stream",
          "text": [
            "Go to this URL in a browser: https://accounts.google.com/o/oauth2/auth?client_id=947318989803-6bn6qk8qdgf4n4g3pfee6491hc0brc4i.apps.googleusercontent.com&redirect_uri=urn%3aietf%3awg%3aoauth%3a2.0%3aoob&response_type=code&scope=email%20https%3a%2f%2fwww.googleapis.com%2fauth%2fdocs.test%20https%3a%2f%2fwww.googleapis.com%2fauth%2fdrive%20https%3a%2f%2fwww.googleapis.com%2fauth%2fdrive.photos.readonly%20https%3a%2f%2fwww.googleapis.com%2fauth%2fpeopleapi.readonly\n",
            "\n",
            "Enter your authorization code:\n",
            "··········\n",
            "Mounted at /content/drive\n"
          ],
          "name": "stdout"
        }
      ]
    },
    {
      "cell_type": "code",
      "metadata": {
        "id": "Af2qNNHiXcTD",
        "colab_type": "code",
        "colab": {}
      },
      "source": [
        "path = 'drive/My Drive/Colab Notebooks/Data/cancer.bif'\n",
        "cancer = readwrite.BIF.BIFReader(path)"
      ],
      "execution_count": 0,
      "outputs": []
    },
    {
      "cell_type": "markdown",
      "metadata": {
        "id": "TP8BXqd_XcTC",
        "colab_type": "text"
      },
      "source": [
        "## Bayesian Probability Inference algorithms"
      ]
    },
    {
      "cell_type": "markdown",
      "metadata": {
        "id": "iv5gRou9-EIA",
        "colab_type": "text"
      },
      "source": [
        "### Cancer Data"
      ]
    },
    {
      "cell_type": "code",
      "metadata": {
        "id": "ppV9NJT2XcTP",
        "colab_type": "code",
        "colab": {
          "base_uri": "https://localhost:8080/",
          "height": 615
        },
        "outputId": "722a067e-a27c-48df-df4a-228fde233e36"
      },
      "source": [
        "variables = cancer.get_variables()\n",
        "probability = cancer.get_probability_grammar()\n",
        "print(variables)\n",
        "model = cancer.get_model()\n",
        "cancer_infer = VariableElimination(model)\n",
        "\n",
        "cancer_infer = VariableElimination(model)\n",
        "cpd_pollu = model.get_cpds('Pollution')\n",
        "cpd_smoker =model.get_cpds('Smoker')\n",
        "cpd_cancer = model.get_cpds('Cancer')\n",
        "cpd_xray = model.get_cpds('Xray')\n",
        "cpd_dysp = model.get_cpds('Dyspnoea')\n",
        "print(cpd_pollu)\n",
        "print(cpd_smoker)\n",
        "print(cpd_cancer)\n",
        "print(cpd_xray)\n",
        "print(cpd_dysp)"
      ],
      "execution_count": 96,
      "outputs": [
        {
          "output_type": "stream",
          "text": [
            "['Pollution', 'Smoker', 'Cancer', 'Xray', 'Dyspnoea']\n",
            "+-----------------+-----+\n",
            "| Pollution(low)  | 0.9 |\n",
            "+-----------------+-----+\n",
            "| Pollution(high) | 0.1 |\n",
            "+-----------------+-----+\n",
            "+---------------+-----+\n",
            "| Smoker(True)  | 0.3 |\n",
            "+---------------+-----+\n",
            "| Smoker(False) | 0.7 |\n",
            "+---------------+-----+\n",
            "+---------------+----------------+----------------+-----------------+-----------------+\n",
            "| Pollution     | Pollution(low) | Pollution(low) | Pollution(high) | Pollution(high) |\n",
            "+---------------+----------------+----------------+-----------------+-----------------+\n",
            "| Smoker        | Smoker(True)   | Smoker(False)  | Smoker(True)    | Smoker(False)   |\n",
            "+---------------+----------------+----------------+-----------------+-----------------+\n",
            "| Cancer(True)  | 0.03           | 0.001          | 0.05            | 0.02            |\n",
            "+---------------+----------------+----------------+-----------------+-----------------+\n",
            "| Cancer(False) | 0.97           | 0.999          | 0.95            | 0.98            |\n",
            "+---------------+----------------+----------------+-----------------+-----------------+\n",
            "+----------------+--------------+---------------+\n",
            "| Cancer         | Cancer(True) | Cancer(False) |\n",
            "+----------------+--------------+---------------+\n",
            "| Xray(positive) | 0.9          | 0.2           |\n",
            "+----------------+--------------+---------------+\n",
            "| Xray(negative) | 0.1          | 0.8           |\n",
            "+----------------+--------------+---------------+\n",
            "+-----------------+--------------+---------------+\n",
            "| Cancer          | Cancer(True) | Cancer(False) |\n",
            "+-----------------+--------------+---------------+\n",
            "| Dyspnoea(True)  | 0.65         | 0.3           |\n",
            "+-----------------+--------------+---------------+\n",
            "| Dyspnoea(False) | 0.35         | 0.7           |\n",
            "+-----------------+--------------+---------------+\n"
          ],
          "name": "stdout"
        }
      ]
    },
    {
      "cell_type": "code",
      "metadata": {
        "id": "EieMC6bUXcTT",
        "colab_type": "code",
        "colab": {
          "base_uri": "https://localhost:8080/",
          "height": 34
        },
        "outputId": "081b50f7-827e-4147-a456-9671709cd815"
      },
      "source": [
        "varis = ['Pollution','Smoker','Xray']\n",
        "vari_type = {'Pollution':1,'Smoker':1,'Xray':1}\n",
        "\n",
        "def Joint_P_byproduct(model = model,varis = varis,vari_type = vari_type):\n",
        "    varis = ['Pollution','Smoker','Xray']\n",
        "    all_nodes = model.nodes()\n",
        "    factors = defaultdict(list)\n",
        "    all_unique_factors = set()\n",
        "    for node in all_nodes:\n",
        "        cpd = model.get_cpds(node)\n",
        "        cpd = cpd.to_factor()\n",
        "        for var in cpd.scope():\n",
        "            factors[var].append(cpd)\n",
        "    for node in all_nodes:    \n",
        "        for factor in factors[node]:\n",
        "            if not {factor}.intersection(all_unique_factors):\n",
        "                all_unique_factors.add(factor)\n",
        "    product_distribution = reduce(lambda dist1, dist2: dist1 * dist2, all_unique_factors)\n",
        "    joint_factor = product_distribution.marginalize(list(set(all_nodes) - set(varis)), inplace=False)\n",
        "\n",
        "    pd_values = product_distribution.values\n",
        "    for i in range(len(product_distribution.variables)):\n",
        "        var = product_distribution.variables[i]\n",
        "        if var in vari_type.keys():\n",
        "            type_var =  vari_type[var]\n",
        "            pd_values = pd_values[type_var]\n",
        "        else:\n",
        "            tem_values = np.zeros(pd_values[0].shape)\n",
        "            for j in range(product_distribution.get_cardinality([var])[var]):\n",
        "                tem_values += pd_values[j]\n",
        "            pd_values = tem_values\n",
        "    Joint_p = pd_values\n",
        "    return Joint_p\n",
        "   \n",
        "P = Joint_P_byproduct()\n",
        "\n",
        "P"
      ],
      "execution_count": 123,
      "outputs": [
        {
          "output_type": "execute_result",
          "data": {
            "text/plain": [
              "0.05502"
            ]
          },
          "metadata": {
            "tags": []
          },
          "execution_count": 123
        }
      ]
    },
    {
      "cell_type": "code",
      "metadata": {
        "id": "n5mHs9ALXcTY",
        "colab_type": "code",
        "colab": {}
      },
      "source": [
        "def Joint_P_byproduct(model = model,varis = varis):\n",
        "\n",
        "    varis = ['Pollution','Smoker','Xray']\n",
        "    all_nodes = model.nodes()\n",
        "    factors = defaultdict(list)\n",
        "    all_unique_factors = set()\n",
        "\n",
        "    for node in all_nodes:\n",
        "        cpd = model.get_cpds(node)\n",
        "        cpd = cpd.to_factor()\n",
        "        for var in cpd.scope():\n",
        "            factors[var].append(cpd)\n",
        "    for node in all_nodes:    \n",
        "        for factor in factors[node]:\n",
        "            if not {factor}.intersection(all_unique_factors):\n",
        "                all_unique_factors.add(factor)\n",
        "                \n",
        "    product_distribution = reduce(lambda dist1, dist2: dist1 * dist2, all_unique_factors)\n",
        "    joint_factor = product_distribution.marginalize(list(set(all_nodes) - set(varis)), inplace=False)\n",
        "\n",
        "    return joint_factor, product_distribution"
      ],
      "execution_count": 0,
      "outputs": []
    },
    {
      "cell_type": "code",
      "metadata": {
        "id": "FiF8SF8lwo6r",
        "colab_type": "code",
        "colab": {
          "base_uri": "https://localhost:8080/",
          "height": 54
        },
        "outputId": "ce7a989c-0b37-49bb-b977-2c8f05522d31"
      },
      "source": [
        "varis = ['Pollution','Smoker','Xray']    \n",
        "vari_type = [1,1,1]\n",
        "joint_factor = Joint_P_byproduct(model = model,varis = varis)\n",
        "\n",
        "print(joint_factor)"
      ],
      "execution_count": 143,
      "outputs": [
        {
          "output_type": "stream",
          "text": [
            "(<DiscreteFactor representing phi(Pollution:2, Smoker:2, Xray:2) at 0x7f0b403e6630>, <DiscreteFactor representing phi(Pollution:2, Cancer:2, Smoker:2, Dyspnoea:2, Xray:2) at 0x7f0b403e6048>)\n"
          ],
          "name": "stdout"
        }
      ]
    },
    {
      "cell_type": "code",
      "metadata": {
        "id": "mPQ1Y_q9XcTc",
        "colab_type": "code",
        "colab": {}
      },
      "source": [
        "def Joint_P(varis = {'Pollution':1,'Smoker':1,'Xray':1},model = model):\n",
        "    P = 1\n",
        "    varis_list = list(varis.keys())\n",
        "    \n",
        "    for i in range(len(varis_list)):\n",
        "        print('The variable which gonna calulate probability:',varis_list[i])\n",
        "        tem_cpd = model.get_cpds(varis_list[i])\n",
        "        tem_dict = {}\n",
        "        tem_vari = copy.deepcopy(varis_list[i])\n",
        "\n",
        "        tem_vari.remove(varis_list[i])\n",
        "        for k in range(len(tem_vari)):\n",
        "            if tem_vari[k] in tem_dict.keys():\n",
        "                print('something wrong')\n",
        "            else:\n",
        "                tem_dict.update({tem_vari[k]:varis[tem_vari[k]]})\n",
        "        print(tem_dict)\n",
        "        prob = cancer_infer.query(variables= [varis_list[i]],evidence= tem_dict)\n",
        "        print(prob[varis_list[i]].values)\n",
        "        P = P * prob[varis_list[i]].values[varis[varis_list[i]]]\n",
        "\n",
        "    return P\n",
        "    "
      ],
      "execution_count": 0,
      "outputs": []
    },
    {
      "cell_type": "code",
      "metadata": {
        "id": "gbOKg5OTXcTg",
        "colab_type": "code",
        "colab": {
          "base_uri": "https://localhost:8080/",
          "height": 228
        },
        "outputId": "bf63672f-a703-42ab-b39f-95e72faa0c2b"
      },
      "source": [
        "p = Joint_P()\n",
        "print('joint_prob_PSX:',p)"
      ],
      "execution_count": 151,
      "outputs": [
        {
          "output_type": "stream",
          "text": [
            " The variable which gonna calulate probability: Pollution\n",
            "{'Smoker': 1, 'Xray': 1}\n",
            "[0.89753618 0.10246382]\n",
            "The variable which gonna calulate probability: Smoker\n",
            "{'Pollution': 1, 'Xray': 1}\n",
            "[0.30353549 0.69646451]\n",
            "The variable which gonna calulate probability: Xray\n",
            "{'Pollution': 1, 'Smoker': 1}\n",
            "[0.214 0.786]\n",
            "joint_prob_PSX: 0.05609086035519241\n",
            "\n",
            "\n"
          ],
          "name": "stdout"
        }
      ]
    },
    {
      "cell_type": "code",
      "metadata": {
        "id": "_kn-3XE6qfkb",
        "colab_type": "code",
        "colab": {}
      },
      "source": [
        ""
      ],
      "execution_count": 0,
      "outputs": []
    },
    {
      "cell_type": "markdown",
      "metadata": {
        "id": "xU9DenTkrcVx",
        "colab_type": "text"
      },
      "source": [
        "### Asia Data"
      ]
    },
    {
      "cell_type": "code",
      "metadata": {
        "id": "i14fqKzqXcTl",
        "colab_type": "code",
        "colab": {}
      },
      "source": [
        "asia_path = 'drive/My Drive/Colab Notebooks/Data/asia.bif'\n",
        "asia = readwrite.BIF.BIFReader(asia_path)"
      ],
      "execution_count": 0,
      "outputs": []
    },
    {
      "cell_type": "code",
      "metadata": {
        "id": "WBVxS5YRXcTp",
        "colab_type": "code",
        "colab": {
          "base_uri": "https://localhost:8080/",
          "height": 34
        },
        "outputId": "26ecd987-b523-4c59-bd24-b16bc124d19c"
      },
      "source": [
        "variables_asia = asia.get_variables()\n",
        "print(variables_asia)\n",
        "asia_model = asia.get_model()"
      ],
      "execution_count": 27,
      "outputs": [
        {
          "output_type": "stream",
          "text": [
            "['asia', 'tub', 'smoke', 'lung', 'bronc', 'either', 'xray', 'dysp']\n"
          ],
          "name": "stdout"
        }
      ]
    },
    {
      "cell_type": "code",
      "metadata": {
        "id": "L9wYqF3DXcTt",
        "colab_type": "code",
        "colab": {
          "base_uri": "https://localhost:8080/",
          "height": 1000
        },
        "outputId": "b043997e-8d28-40a0-e81f-69a838fdb08c"
      },
      "source": [
        "cpd_asia = asia_model.get_cpds('asia')\n",
        "cpd_tub =asia_model.get_cpds('tub')\n",
        "cpd_smoke = asia_model.get_cpds('smoke')\n",
        "cpd_lung = asia_model.get_cpds('lung')\n",
        "cpd_bronc = asia_model.get_cpds('bronc')\n",
        "cpd_either = asia_model.get_cpds('either')\n",
        "cpd_xray = asia_model.get_cpds('xray')\n",
        "cpd_dysp = asia_model.get_cpds('dysp')\n",
        "\n",
        "print(cpd_asia )\n",
        "print(cpd_tub)\n",
        "print(cpd_smoke)\n",
        "print(cpd_lung)\n",
        "print(cpd_bronc)\n",
        "print(cpd_either)\n",
        "print(cpd_xray)\n",
        "print(cpd_dysp)"
      ],
      "execution_count": 28,
      "outputs": [
        {
          "output_type": "stream",
          "text": [
            "+-----------+------+\n",
            "| asia(yes) | 0.01 |\n",
            "+-----------+------+\n",
            "| asia(no)  | 0.99 |\n",
            "+-----------+------+\n",
            "+----------+-----------+----------+\n",
            "| asia     | asia(yes) | asia(no) |\n",
            "+----------+-----------+----------+\n",
            "| tub(yes) | 0.05      | 0.01     |\n",
            "+----------+-----------+----------+\n",
            "| tub(no)  | 0.95      | 0.99     |\n",
            "+----------+-----------+----------+\n",
            "+------------+-----+\n",
            "| smoke(yes) | 0.5 |\n",
            "+------------+-----+\n",
            "| smoke(no)  | 0.5 |\n",
            "+------------+-----+\n",
            "+-----------+------------+-----------+\n",
            "| smoke     | smoke(yes) | smoke(no) |\n",
            "+-----------+------------+-----------+\n",
            "| lung(yes) | 0.1        | 0.01      |\n",
            "+-----------+------------+-----------+\n",
            "| lung(no)  | 0.9        | 0.99      |\n",
            "+-----------+------------+-----------+\n",
            "+------------+------------+-----------+\n",
            "| smoke      | smoke(yes) | smoke(no) |\n",
            "+------------+------------+-----------+\n",
            "| bronc(yes) | 0.6        | 0.3       |\n",
            "+------------+------------+-----------+\n",
            "| bronc(no)  | 0.4        | 0.7       |\n",
            "+------------+------------+-----------+\n",
            "+-------------+-----------+-----------+----------+----------+\n",
            "| lung        | lung(yes) | lung(yes) | lung(no) | lung(no) |\n",
            "+-------------+-----------+-----------+----------+----------+\n",
            "| tub         | tub(yes)  | tub(no)   | tub(yes) | tub(no)  |\n",
            "+-------------+-----------+-----------+----------+----------+\n",
            "| either(yes) | 1.0       | 1.0       | 1.0      | 0.0      |\n",
            "+-------------+-----------+-----------+----------+----------+\n",
            "| either(no)  | 0.0       | 0.0       | 0.0      | 1.0      |\n",
            "+-------------+-----------+-----------+----------+----------+\n",
            "+-----------+-------------+------------+\n",
            "| either    | either(yes) | either(no) |\n",
            "+-----------+-------------+------------+\n",
            "| xray(yes) | 0.98        | 0.05       |\n",
            "+-----------+-------------+------------+\n",
            "| xray(no)  | 0.02        | 0.95       |\n",
            "+-----------+-------------+------------+\n",
            "+-----------+-------------+------------+-------------+------------+\n",
            "| bronc     | bronc(yes)  | bronc(yes) | bronc(no)   | bronc(no)  |\n",
            "+-----------+-------------+------------+-------------+------------+\n",
            "| either    | either(yes) | either(no) | either(yes) | either(no) |\n",
            "+-----------+-------------+------------+-------------+------------+\n",
            "| dysp(yes) | 0.9         | 0.8        | 0.7         | 0.1        |\n",
            "+-----------+-------------+------------+-------------+------------+\n",
            "| dysp(no)  | 0.1         | 0.2        | 0.3         | 0.9        |\n",
            "+-----------+-------------+------------+-------------+------------+\n"
          ],
          "name": "stdout"
        }
      ]
    },
    {
      "cell_type": "code",
      "metadata": {
        "id": "rSu6S99iXcTy",
        "colab_type": "code",
        "colab": {
          "base_uri": "https://localhost:8080/",
          "height": 34
        },
        "outputId": "adf70b80-8263-4da9-b4b0-480ca832adcb"
      },
      "source": [
        "cpd_either.variables"
      ],
      "execution_count": 29,
      "outputs": [
        {
          "output_type": "execute_result",
          "data": {
            "text/plain": [
              "['either', 'lung', 'tub']"
            ]
          },
          "metadata": {
            "tags": []
          },
          "execution_count": 29
        }
      ]
    },
    {
      "cell_type": "markdown",
      "metadata": {
        "id": "L08B_q4vXcT2",
        "colab_type": "text"
      },
      "source": [
        "## Sampling"
      ]
    },
    {
      "cell_type": "code",
      "metadata": {
        "id": "Fzn7ODiUXcT5",
        "colab_type": "code",
        "colab": {
          "base_uri": "https://localhost:8080/",
          "height": 34
        },
        "outputId": "0e09d236-db24-4c51-a215-5a4601ed4c45"
      },
      "source": [
        "b =[]\n",
        "K = 0\n",
        "for i in range(1000):\n",
        "    a = np.random.choice(2,1,p=[0.9,0.1])\n",
        "    \n",
        "    if a[0] == 1:\n",
        "        K += 1\n",
        "    else:\n",
        "        pass\n",
        "\n",
        "print(K)"
      ],
      "execution_count": 30,
      "outputs": [
        {
          "output_type": "stream",
          "text": [
            "88\n"
          ],
          "name": "stdout"
        }
      ]
    },
    {
      "cell_type": "code",
      "metadata": {
        "id": "SQ7Nd3v6XcT-",
        "colab_type": "code",
        "colab": {
          "base_uri": "https://localhost:8080/",
          "height": 34
        },
        "outputId": "e0b67558-adbc-4d2c-bd37-f957bb27112e"
      },
      "source": [
        "cpd_smoker.values"
      ],
      "execution_count": 31,
      "outputs": [
        {
          "output_type": "execute_result",
          "data": {
            "text/plain": [
              "array([0.3, 0.7])"
            ]
          },
          "metadata": {
            "tags": []
          },
          "execution_count": 31
        }
      ]
    },
    {
      "cell_type": "code",
      "metadata": {
        "id": "p_mr_bkQXcUC",
        "colab_type": "code",
        "colab": {}
      },
      "source": [
        "def sampling(model = model, num_sample = 10):\n",
        "    sample_dict = {}\n",
        "    num = 0\n",
        "    while num < num_sample:\n",
        "        num += 1\n",
        "        samples = []\n",
        "        for vari in variables:\n",
        "            tem_cpd = model.get_cpds(vari)\n",
        "            vari_value = tem_cpd.values\n",
        "            card = tem_cpd.variable_card\n",
        "            parents = tem_cpd.variables[1:]\n",
        "            if parents:\n",
        "                parents_card = []\n",
        "                for parent in parents:\n",
        "                    tem_index = variables.index(parent)\n",
        "                    parents_card.append(samples[tem_index])\n",
        "                #print('all_values',vari_value)\n",
        "                tem_value = []\n",
        "                for l in range(vari_value.shape[0]):\n",
        "                    anyway = vari_value[l]\n",
        "                    for k in parents_card:\n",
        "                        anyway = anyway[k]\n",
        "                        #print('step value:',anyway)\n",
        "                    tem_value.append(anyway)\n",
        "                #print('probability:',tem_value)\n",
        "                tem_sample = np.random.choice(card,1,p=tem_value)\n",
        "                samples.append(tem_sample[0])\n",
        "            else:\n",
        "                tem_sample = np.random.choice(card,1,p=vari_value)\n",
        "                samples.append(tem_sample[0])\n",
        "            tup_samples = tuple(samples)\n",
        "        \n",
        "        if tup_samples in sample_dict.keys():\n",
        "            sample_dict[tup_samples] += 1\n",
        "        else:\n",
        "            sample_dict.update({tup_samples:1})\n",
        "    return sample_dict\n",
        "    "
      ],
      "execution_count": 0,
      "outputs": []
    },
    {
      "cell_type": "code",
      "metadata": {
        "id": "Azr1v_EOrvaP",
        "colab_type": "code",
        "colab": {
          "base_uri": "https://localhost:8080/",
          "height": 580
        },
        "outputId": "e2ac32b7-ccb6-40c3-d40f-1aa815a1bd9d"
      },
      "source": [
        "all_dict = sampling(num_sample = 100000)\n",
        "all_dict"
      ],
      "execution_count": 33,
      "outputs": [
        {
          "output_type": "execute_result",
          "data": {
            "text/plain": [
              "{(0, 0, 0, 0, 0): 448,\n",
              " (0, 0, 0, 0, 1): 268,\n",
              " (0, 0, 0, 1, 0): 55,\n",
              " (0, 0, 0, 1, 1): 24,\n",
              " (0, 0, 1, 0, 0): 1535,\n",
              " (0, 0, 1, 0, 1): 3633,\n",
              " (0, 0, 1, 1, 0): 6203,\n",
              " (0, 0, 1, 1, 1): 14667,\n",
              " (0, 1, 0, 0, 0): 43,\n",
              " (0, 1, 0, 0, 1): 22,\n",
              " (0, 1, 0, 1, 0): 4,\n",
              " (0, 1, 0, 1, 1): 2,\n",
              " (0, 1, 1, 0, 0): 3786,\n",
              " (0, 1, 1, 0, 1): 8753,\n",
              " (0, 1, 1, 1, 0): 15089,\n",
              " (0, 1, 1, 1, 1): 35477,\n",
              " (1, 0, 0, 0, 0): 81,\n",
              " (1, 0, 0, 0, 1): 42,\n",
              " (1, 0, 0, 1, 0): 3,\n",
              " (1, 0, 0, 1, 1): 12,\n",
              " (1, 0, 1, 0, 0): 172,\n",
              " (1, 0, 1, 0, 1): 415,\n",
              " (1, 0, 1, 1, 0): 685,\n",
              " (1, 0, 1, 1, 1): 1591,\n",
              " (1, 1, 0, 0, 0): 81,\n",
              " (1, 1, 0, 0, 1): 39,\n",
              " (1, 1, 0, 1, 0): 2,\n",
              " (1, 1, 0, 1, 1): 4,\n",
              " (1, 1, 1, 0, 0): 367,\n",
              " (1, 1, 1, 0, 1): 945,\n",
              " (1, 1, 1, 1, 0): 1743,\n",
              " (1, 1, 1, 1, 1): 3809}"
            ]
          },
          "metadata": {
            "tags": []
          },
          "execution_count": 33
        }
      ]
    },
    {
      "cell_type": "code",
      "metadata": {
        "id": "QvvPENE7r8jZ",
        "colab_type": "code",
        "colab": {
          "base_uri": "https://localhost:8080/",
          "height": 34
        },
        "outputId": "31f2683b-762d-4e1f-b998-5d0214b571e1"
      },
      "source": [
        "dic = {'Pollution':1,'Smoker':1,'Xray':1}\n",
        "index = []\n",
        "for vari in dic.keys():\n",
        "    index.append(variables.index(vari))\n",
        "print(index)\n",
        "\n"
      ],
      "execution_count": 34,
      "outputs": [
        {
          "output_type": "stream",
          "text": [
            "[0, 1, 3]\n"
          ],
          "name": "stdout"
        }
      ]
    },
    {
      "cell_type": "code",
      "metadata": {
        "id": "cphwwFADXcUK",
        "colab_type": "code",
        "colab": {}
      },
      "source": [
        "def count_P(varis = variables, all_dic = all_dict,sample_dict = dic,num_sample = 10):\n",
        "    count = 0\n",
        "    for sample in all_dict.keys():\n",
        "        #sample = (1, 0, 0, 0, 0)\n",
        "        tem_dict = {}\n",
        "        for i in range(len(varis)):\n",
        "            if varis[i] in tem_dict.keys():\n",
        "                print('wrong')\n",
        "            else:\n",
        "                tem_dict.update({varis[i]:sample[i]})\n",
        "        if tem_dict.items() & sample_dict.items() == sample_dict.items():\n",
        "            count += all_dic[sample]\n",
        "\n",
        "    P = count/num_sample\n",
        "    return P\n",
        "    \n",
        "#tem_dict\n",
        "    "
      ],
      "execution_count": 0,
      "outputs": []
    },
    {
      "cell_type": "code",
      "metadata": {
        "id": "Gz9Kv240sCgr",
        "colab_type": "code",
        "colab": {
          "base_uri": "https://localhost:8080/",
          "height": 34
        },
        "outputId": "55421bbc-d563-447a-c415-9da75f7095b2"
      },
      "source": [
        "P_psx = count_P(num_sample = 100000)\n",
        "P_psx"
      ],
      "execution_count": 36,
      "outputs": [
        {
          "output_type": "execute_result",
          "data": {
            "text/plain": [
              "0.05558"
            ]
          },
          "metadata": {
            "tags": []
          },
          "execution_count": 36
        }
      ]
    },
    {
      "cell_type": "code",
      "metadata": {
        "id": "VKyGD-cOsGzR",
        "colab_type": "code",
        "colab": {
          "base_uri": "https://localhost:8080/",
          "height": 265
        },
        "outputId": "67c00589-dd64-497b-a5cc-69e69b396b9d"
      },
      "source": [
        "P_list =[]\n",
        "num_epoch = 100000\n",
        "X = np.arange(50,num_epoch,1000)\n",
        "for num in range(50,num_epoch,1000):\n",
        "    dic = {'Pollution':1,'Smoker':1,'Xray':1}\n",
        "    all_dict = sampling(num_sample = num)\n",
        "    P = count_P(all_dic=all_dict,sample_dict = dic,num_sample = num)\n",
        "    P_list.append(P)\n",
        "\n",
        "\n",
        "plt.figure()\n",
        "plt.plot(X,P_list)\n",
        "plt.show()"
      ],
      "execution_count": 37,
      "outputs": [
        {
          "output_type": "display_data",
          "data": {
            "image/png": "[encoded data removed]",
            "text/plain": [
              "<Figure size 432x288 with 1 Axes>"
            ]
          },
          "metadata": {
            "tags": []
          }
        }
      ]
    },
    {
      "cell_type": "code",
      "metadata": {
        "id": "NuBJO4D8XcUT",
        "colab_type": "code",
        "colab": {
          "base_uri": "https://localhost:8080/",
          "height": 34
        },
        "outputId": "66625988-2c8e-4a2b-f380-7f42cfc3d497"
      },
      "source": [
        "num_epoch = 100000\n",
        "a = []\n",
        "X = np.arange(1,num_epoch,2000)\n",
        "print(len(X))\n",
        "# for num in range(1,num_epoch,100):\n",
        "#     a.append(num)\n",
        "# print(a)"
      ],
      "execution_count": 38,
      "outputs": [
        {
          "output_type": "stream",
          "text": [
            "50\n"
          ],
          "name": "stdout"
        }
      ]
    },
    {
      "cell_type": "code",
      "metadata": {
        "id": "RJqOkpqLXcUW",
        "colab_type": "code",
        "colab": {}
      },
      "source": [
        ""
      ],
      "execution_count": 0,
      "outputs": []
    }
  ]
}