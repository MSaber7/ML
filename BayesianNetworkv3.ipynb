{
  "nbformat": 4,
  "nbformat_minor": 0,
  "metadata": {
    "colab": {
      "name": "BayesianNetworkv3.ipynb",
      "provenance": [],
      "collapsed_sections": [],
      "toc_visible": true,
      "include_colab_link": true
    },
    "kernelspec": {
      "name": "python3",
      "display_name": "Python 3"
    },
    "accelerator": "GPU"
  },
  "cells": [
    {
      "cell_type": "markdown",
      "metadata": {
        "id": "view-in-github",
        "colab_type": "text"
      },
      "source": [
        "<a href=\"https://colab.research.google.com/github/MSaber9/Machine-Learning/blob/master/BayesianNetworkv3.ipynb\" target=\"_parent\"><img src=\"https://colab.research.google.com/assets/colab-badge.svg\" alt=\"Open In Colab\"/></a>"
      ]
    },
    {
      "cell_type": "markdown",
      "metadata": {
        "id": "FM8T-ZQwU9_Y",
        "colab_type": "text"
      },
      "source": [
        "# Bayesian Network"
      ]
    },
    {
      "cell_type": "markdown",
      "metadata": {
        "id": "tfARW_cCU4Ev",
        "colab_type": "text"
      },
      "source": [
        "Explore existing file formats for representing Bayesian networks. Choose any of the formats you like. You can use the existing parsers for networks of the selected file format.\n",
        "\n",
        "Implement two Bayesian probability inference algorithms, which will answers to requests for any subset of variables. For example of the form P(A = ai & B = bj & D = dk), note that C is missing. The first algorithm should calculate the exact answer. The second algorithm should use random sampling to calculate the required probability.\n",
        "\n",
        "For several queries, calculate the probability using both algorithms. For the second algorithm plot dependence of current probability on number sampled instances.\n",
        "\n",
        "Datasets can be taken from http://www.bnlearn.com/bnrepository/ or http://www.cs.huji.ac.il/~galel/Repository/"
      ]
    },
    {
      "cell_type": "markdown",
      "metadata": {
        "id": "2dOIe2GOSkAC",
        "colab_type": "text"
      },
      "source": [
        "## Library"
      ]
    },
    {
      "cell_type": "code",
      "metadata": {
        "id": "MLdDlLpZvYQ6",
        "colab_type": "code",
        "outputId": "ebe2e918-e22e-4201-bc3a-a7d7fc70cf59",
        "colab": {
          "base_uri": "https://localhost:8080/",
          "height": 371
        }
      },
      "source": [
        "! pip install pgmpy"
      ],
      "execution_count": 2,
      "outputs": [
        {
          "output_type": "stream",
          "text": [
            "Collecting pgmpy\n",
            "\u001b[?25l  Downloading https://files.pythonhosted.org/packages/68/6b/661a65aa7788f3aff7228ba81625c540917d656f41e3eb031c6d60b0a25d/pgmpy-0.1.10-py3-none-any.whl (339kB)\n",
            "\r\u001b[K     |█                               | 10kB 26.1MB/s eta 0:00:01\r\u001b[K     |██                              | 20kB 5.6MB/s eta 0:00:01\r\u001b[K     |███                             | 30kB 8.0MB/s eta 0:00:01\r\u001b[K     |███▉                            | 40kB 10.0MB/s eta 0:00:01\r\u001b[K     |████▉                           | 51kB 6.6MB/s eta 0:00:01\r\u001b[K     |█████▉                          | 61kB 7.7MB/s eta 0:00:01\r\u001b[K     |██████▊                         | 71kB 8.8MB/s eta 0:00:01\r\u001b[K     |███████▊                        | 81kB 9.7MB/s eta 0:00:01\r\u001b[K     |████████▊                       | 92kB 7.7MB/s eta 0:00:01\r\u001b[K     |█████████▋                      | 102kB 8.4MB/s eta 0:00:01\r\u001b[K     |██████████▋                     | 112kB 8.4MB/s eta 0:00:01\r\u001b[K     |███████████▋                    | 122kB 8.4MB/s eta 0:00:01\r\u001b[K     |████████████▌                   | 133kB 8.4MB/s eta 0:00:01\r\u001b[K     |█████████████▌                  | 143kB 8.4MB/s eta 0:00:01\r\u001b[K     |██████████████▌                 | 153kB 8.4MB/s eta 0:00:01\r\u001b[K     |███████████████▌                | 163kB 8.4MB/s eta 0:00:01\r\u001b[K     |████████████████▍               | 174kB 8.4MB/s eta 0:00:01\r\u001b[K     |█████████████████▍              | 184kB 8.4MB/s eta 0:00:01\r\u001b[K     |██████████████████▍             | 194kB 8.4MB/s eta 0:00:01\r\u001b[K     |███████████████████▎            | 204kB 8.4MB/s eta 0:00:01\r\u001b[K     |████████████████████▎           | 215kB 8.4MB/s eta 0:00:01\r\u001b[K     |█████████████████████▎          | 225kB 8.4MB/s eta 0:00:01\r\u001b[K     |██████████████████████▏         | 235kB 8.4MB/s eta 0:00:01\r\u001b[K     |███████████████████████▏        | 245kB 8.4MB/s eta 0:00:01\r\u001b[K     |████████████████████████▏       | 256kB 8.4MB/s eta 0:00:01\r\u001b[K     |█████████████████████████       | 266kB 8.4MB/s eta 0:00:01\r\u001b[K     |██████████████████████████      | 276kB 8.4MB/s eta 0:00:01\r\u001b[K     |███████████████████████████     | 286kB 8.4MB/s eta 0:00:01\r\u001b[K     |████████████████████████████    | 296kB 8.4MB/s eta 0:00:01\r\u001b[K     |█████████████████████████████   | 307kB 8.4MB/s eta 0:00:01\r\u001b[K     |██████████████████████████████  | 317kB 8.4MB/s eta 0:00:01\r\u001b[K     |███████████████████████████████ | 327kB 8.4MB/s eta 0:00:01\r\u001b[K     |███████████████████████████████▉| 337kB 8.4MB/s eta 0:00:01\r\u001b[K     |████████████████████████████████| 348kB 8.4MB/s \n",
            "\u001b[?25hRequirement already satisfied: networkx in /usr/local/lib/python3.6/dist-packages (from pgmpy) (2.4)\n",
            "Requirement already satisfied: tqdm in /usr/local/lib/python3.6/dist-packages (from pgmpy) (4.38.0)\n",
            "Requirement already satisfied: torch in /usr/local/lib/python3.6/dist-packages (from pgmpy) (1.4.0)\n",
            "Requirement already satisfied: pandas in /usr/local/lib/python3.6/dist-packages (from pgmpy) (1.0.3)\n",
            "Requirement already satisfied: statsmodels in /usr/local/lib/python3.6/dist-packages (from pgmpy) (0.10.2)\n",
            "Requirement already satisfied: numpy in /usr/local/lib/python3.6/dist-packages (from pgmpy) (1.18.3)\n",
            "Requirement already satisfied: scipy in /usr/local/lib/python3.6/dist-packages (from pgmpy) (1.4.1)\n",
            "Requirement already satisfied: joblib in /usr/local/lib/python3.6/dist-packages (from pgmpy) (0.14.1)\n",
            "Requirement already satisfied: pyparsing in /usr/local/lib/python3.6/dist-packages (from pgmpy) (2.4.7)\n",
            "Requirement already satisfied: decorator>=4.3.0 in /usr/local/lib/python3.6/dist-packages (from networkx->pgmpy) (4.4.2)\n",
            "Requirement already satisfied: pytz>=2017.2 in /usr/local/lib/python3.6/dist-packages (from pandas->pgmpy) (2018.9)\n",
            "Requirement already satisfied: python-dateutil>=2.6.1 in /usr/local/lib/python3.6/dist-packages (from pandas->pgmpy) (2.8.1)\n",
            "Requirement already satisfied: patsy>=0.4.0 in /usr/local/lib/python3.6/dist-packages (from statsmodels->pgmpy) (0.5.1)\n",
            "Requirement already satisfied: six>=1.5 in /usr/local/lib/python3.6/dist-packages (from python-dateutil>=2.6.1->pandas->pgmpy) (1.12.0)\n",
            "Installing collected packages: pgmpy\n",
            "Successfully installed pgmpy-0.1.10\n"
          ],
          "name": "stdout"
        }
      ]
    },
    {
      "cell_type": "code",
      "metadata": {
        "id": "Z8FQfEnuUXVR",
        "colab_type": "code",
        "colab": {}
      },
      "source": [
        "import numpy as np\n",
        "import os\n",
        "import copy\n",
        "from pgmpy import readwrite\n",
        "from pgmpy.factors.discrete import TabularCPD\n",
        "from pgmpy.inference import VariableElimination\n",
        "import matplotlib.pyplot as plt\n",
        "from pgmpy.inference import VariableElimination\n",
        "from collections import defaultdict\n",
        "from functools import reduce"
      ],
      "execution_count": 0,
      "outputs": []
    },
    {
      "cell_type": "markdown",
      "metadata": {
        "id": "cEzIarQvSrZU",
        "colab_type": "text"
      },
      "source": [
        "## Load Data"
      ]
    },
    {
      "cell_type": "code",
      "metadata": {
        "id": "UIPGPTwvvbrd",
        "colab_type": "code",
        "outputId": "cb979ecf-442d-4298-af91-e5a9e687c3e2",
        "colab": {
          "base_uri": "https://localhost:8080/",
          "height": 125
        }
      },
      "source": [
        "from google.colab import drive\n",
        "drive.mount('/content/drive')"
      ],
      "execution_count": 4,
      "outputs": [
        {
          "output_type": "stream",
          "text": [
            "Go to this URL in a browser: https://accounts.google.com/o/oauth2/auth?client_id=947318989803-6bn6qk8qdgf4n4g3pfee6491hc0brc4i.apps.googleusercontent.com&redirect_uri=urn%3aietf%3awg%3aoauth%3a2.0%3aoob&response_type=code&scope=email%20https%3a%2f%2fwww.googleapis.com%2fauth%2fdocs.test%20https%3a%2f%2fwww.googleapis.com%2fauth%2fdrive%20https%3a%2f%2fwww.googleapis.com%2fauth%2fdrive.photos.readonly%20https%3a%2f%2fwww.googleapis.com%2fauth%2fpeopleapi.readonly\n",
            "\n",
            "Enter your authorization code:\n",
            "··········\n",
            "Mounted at /content/drive\n"
          ],
          "name": "stdout"
        }
      ]
    },
    {
      "cell_type": "code",
      "metadata": {
        "id": "uceGi1d5FujC",
        "colab_type": "code",
        "outputId": "d5b84fe1-f495-4e03-e2b3-77293acff83c",
        "colab": {
          "base_uri": "https://localhost:8080/",
          "height": 105
        }
      },
      "source": [
        "!ls 'drive/My Drive/Colab Notebooks/Data/'"
      ],
      "execution_count": 5,
      "outputs": [
        {
          "output_type": "stream",
          "text": [
            " 001.jpg    cancer.bif\t     gist_vehicleimg.npy      vehicleimg\n",
            " 01.jpg     DataImg\t     gist_vehicletrgt.npy     vehicletrgt\n",
            " 02.jpg     DataLab5\t     HumanDog\n",
            " asia.bif   earthquake.bif   keras-retinanet-master\n",
            " CamVid     g01.jpg\t    ' Natural Scenes '\n"
          ],
          "name": "stdout"
        }
      ]
    },
    {
      "cell_type": "code",
      "metadata": {
        "id": "3t-_-wUSv0x0",
        "colab_type": "code",
        "colab": {}
      },
      "source": [
        "#bnfile = readwrite.BIF.BIFReader(\"/content/earthquake.bif\")"
      ],
      "execution_count": 0,
      "outputs": []
    },
    {
      "cell_type": "code",
      "metadata": {
        "id": "P1w4wNSZFoGj",
        "colab_type": "code",
        "colab": {}
      },
      "source": [
        "path = 'drive/My Drive/Colab Notebooks/Data/earthquake.bif'\n",
        "bnfile  = readwrite.BIF.BIFReader(path)"
      ],
      "execution_count": 0,
      "outputs": []
    },
    {
      "cell_type": "markdown",
      "metadata": {
        "id": "XpjqUlBmn9o5",
        "colab_type": "text"
      },
      "source": [
        "# Bayesian Network - Exact Inference"
      ]
    },
    {
      "cell_type": "markdown",
      "metadata": {
        "id": "LfLAUfhtSu90",
        "colab_type": "text"
      },
      "source": [
        "## Get Info : \n",
        "\n",
        "#### Var - Prob - Model - CPD - Ex Infer"
      ]
    },
    {
      "cell_type": "code",
      "metadata": {
        "id": "TfB_xwF0wiU-",
        "colab_type": "code",
        "colab": {}
      },
      "source": [
        "variables = bnfile.get_variables()\n",
        "probability = bnfile.get_probability_grammar()"
      ],
      "execution_count": 0,
      "outputs": []
    },
    {
      "cell_type": "code",
      "metadata": {
        "id": "WLiikDs3xNni",
        "colab_type": "code",
        "colab": {}
      },
      "source": [
        "model = bnfile.get_model()"
      ],
      "execution_count": 0,
      "outputs": []
    },
    {
      "cell_type": "markdown",
      "metadata": {
        "id": "j1XktveiySJl",
        "colab_type": "text"
      },
      "source": [
        "P(b,e,a,j,m) = P(b) * P(e) * P(A|b,e) * P(j|a) * P(m|a)"
      ]
    },
    {
      "cell_type": "code",
      "metadata": {
        "id": "nGKHRYvDxXzm",
        "colab_type": "code",
        "colab": {
          "base_uri": "https://localhost:8080/",
          "height": 598
        },
        "outputId": "874466b3-c6a0-479a-bdc5-215e39180644"
      },
      "source": [
        "cpd_burglary = model.get_cpds('Burglary')\n",
        "cpd_earthquake =model.get_cpds('Earthquake')\n",
        "cpd_alarm = model.get_cpds('Alarm')\n",
        "cpd_johncalls = model.get_cpds('JohnCalls')\n",
        "cpd_marycalls = model.get_cpds('MaryCalls')\n",
        "\n",
        "\n",
        "print (cpd_burglary)\n",
        "print (cpd_earthquake)\n",
        "print (cpd_alarm)\n",
        "print (cpd_johncalls)\n",
        "print (cpd_marycalls)"
      ],
      "execution_count": 10,
      "outputs": [
        {
          "output_type": "stream",
          "text": [
            "+-----------------+------+\n",
            "| Burglary(True)  | 0.01 |\n",
            "+-----------------+------+\n",
            "| Burglary(False) | 0.99 |\n",
            "+-----------------+------+\n",
            "+-------------------+------+\n",
            "| Earthquake(True)  | 0.02 |\n",
            "+-------------------+------+\n",
            "| Earthquake(False) | 0.98 |\n",
            "+-------------------+------+\n",
            "+--------------+------------------+-------------------+------------------+-------------------+\n",
            "| Burglary     | Burglary(True)   | Burglary(True)    | Burglary(False)  | Burglary(False)   |\n",
            "+--------------+------------------+-------------------+------------------+-------------------+\n",
            "| Earthquake   | Earthquake(True) | Earthquake(False) | Earthquake(True) | Earthquake(False) |\n",
            "+--------------+------------------+-------------------+------------------+-------------------+\n",
            "| Alarm(True)  | 0.95             | 0.94              | 0.29             | 0.001             |\n",
            "+--------------+------------------+-------------------+------------------+-------------------+\n",
            "| Alarm(False) | 0.05             | 0.06              | 0.71             | 0.999             |\n",
            "+--------------+------------------+-------------------+------------------+-------------------+\n",
            "+------------------+-------------+--------------+\n",
            "| Alarm            | Alarm(True) | Alarm(False) |\n",
            "+------------------+-------------+--------------+\n",
            "| JohnCalls(True)  | 0.9         | 0.05         |\n",
            "+------------------+-------------+--------------+\n",
            "| JohnCalls(False) | 0.1         | 0.95         |\n",
            "+------------------+-------------+--------------+\n",
            "+------------------+-------------+--------------+\n",
            "| Alarm            | Alarm(True) | Alarm(False) |\n",
            "+------------------+-------------+--------------+\n",
            "| MaryCalls(True)  | 0.7         | 0.01         |\n",
            "+------------------+-------------+--------------+\n",
            "| MaryCalls(False) | 0.3         | 0.99         |\n",
            "+------------------+-------------+--------------+\n"
          ],
          "name": "stdout"
        }
      ]
    },
    {
      "cell_type": "markdown",
      "metadata": {
        "id": "qfoEreTx5ezm",
        "colab_type": "text"
      },
      "source": [
        "Variable elimination (VE): Exact Inference with VariableEliminatin using pgmpy query\n",
        "\n",
        "\n"
      ]
    },
    {
      "cell_type": "markdown",
      "metadata": {
        "id": "PhlBYzBH4qyM",
        "colab_type": "text"
      },
      "source": [
        "Variable elimination (VE) is a simple and general exact inference algorithm in \n",
        "- probabilistic graphical models (e.g. Bayesian networks - Markov random fields).\n",
        "\n",
        "It can be used for:\n",
        "- Inference of maximum a posteriori (MAP) state or\n",
        "- Estimation of conditional or \n",
        "- Marginal distributions over a subset of variables. \n",
        "\n",
        "VE: Called sum-out, or marginalization, eliminates a single variable from a set of factors and returns the resulting set of factors - The algorithm collect-relevant simply returns those factors in involving variable.\n",
        "\n",
        "\n"
      ]
    },
    {
      "cell_type": "code",
      "metadata": {
        "id": "l4glHB0EyaWH",
        "colab_type": "code",
        "colab": {}
      },
      "source": [
        "ex1_infer = VariableElimination(model)"
      ],
      "execution_count": 0,
      "outputs": []
    },
    {
      "cell_type": "code",
      "metadata": {
        "id": "jd3AQJYqysRR",
        "colab_type": "code",
        "outputId": "e8dc0d40-8932-4d3a-c566-44c1db398e1a",
        "colab": {
          "base_uri": "https://localhost:8080/",
          "height": 52
        }
      },
      "source": [
        "q1 = ex1_infer.query(['Alarm'], {'Burglary': \"True\", 'Earthquake':\"True\" })"
      ],
      "execution_count": 14,
      "outputs": [
        {
          "output_type": "stream",
          "text": [
            "Finding Elimination Order: : 100%|██████████| 2/2 [00:00<00:00, 479.65it/s]\n",
            "Eliminating: MaryCalls: 100%|██████████| 2/2 [00:00<00:00, 294.98it/s]\n"
          ],
          "name": "stderr"
        }
      ]
    },
    {
      "cell_type": "code",
      "metadata": {
        "id": "bkR-UBbtn56D",
        "colab_type": "code",
        "outputId": "cac44deb-bf03-4a5b-b6a7-fdd658274328",
        "colab": {
          "base_uri": "https://localhost:8080/",
          "height": 140
        }
      },
      "source": [
        "print(q1)"
      ],
      "execution_count": 15,
      "outputs": [
        {
          "output_type": "stream",
          "text": [
            "+--------------+--------------+\n",
            "| Alarm        |   phi(Alarm) |\n",
            "+==============+==============+\n",
            "| Alarm(True)  |       0.9500 |\n",
            "+--------------+--------------+\n",
            "| Alarm(False) |       0.0500 |\n",
            "+--------------+--------------+\n"
          ],
          "name": "stdout"
        }
      ]
    },
    {
      "cell_type": "markdown",
      "metadata": {
        "id": "l13M3YOPTSUX",
        "colab_type": "text"
      },
      "source": [
        "## Function - Joint Probability Product :"
      ]
    },
    {
      "cell_type": "markdown",
      "metadata": {
        "id": "OL0RIsI4oNFp",
        "colab_type": "text"
      },
      "source": [
        "- JPP (Model, Var, Type ) > P\n",
        "\n",
        "\n"
      ]
    },
    {
      "cell_type": "code",
      "metadata": {
        "id": "emfzOnc51V2O",
        "colab_type": "code",
        "colab": {}
      },
      "source": [
        "# Variable Elimination Algorithm to calculate the exact probability\n",
        "\n",
        "varis = ['Burglary','Earthquake','JohnCalls'] # input\n",
        "# 'Burglary':1,'Earthquake':1,'JohnCalls':1\n",
        "vari_type = {'Burglary':1,'Earthquake':1,'JohnCalls':1}\n",
        "\n",
        "def joint_prob_product(model = model,varis = varis,vari_type = vari_type):\n",
        "    all_nodes = model.nodes()\n",
        "    factors = defaultdict(list)\n",
        "    all_unique_factors = set()\n",
        "\n",
        "    # Get > CPD > Factor\n",
        "    for node in all_nodes:\n",
        "        cpd = model.get_cpds(node)\n",
        "        cpd = cpd.to_factor()\n",
        "        for var in cpd.scope(): \n",
        "            factors[var].append(cpd)\n",
        "\n",
        "    # Get > Factor > Unique Factor\n",
        "    for node in all_nodes:    \n",
        "        for factor in factors[node]:\n",
        "            if not {factor}.intersection(all_unique_factors):\n",
        "                all_unique_factors.add(factor)\n",
        "\n",
        "    # Prod Dist. > Type Var. + PD Value / Tem Value > Joint P\n",
        "    product_distribution = reduce(lambda dist1, dist2: dist1 * dist2, all_unique_factors)\n",
        "    pd_values = product_distribution.values\n",
        "\n",
        "# ------------- type_var--------------------------------------------------------------\n",
        "    for i in range(len(product_distribution.variables)):\n",
        "        var = product_distribution.variables[i]\n",
        "\n",
        "        if var in vari_type.keys():\n",
        "            type_var =  vari_type[var]                # Type Var\n",
        "            pd_values = pd_values[type_var]           # PD Value\n",
        "\n",
        "        else:\n",
        "\n",
        "            tem_values = np.zeros(pd_values[0].shape) # Tem Value\n",
        "            for j in range(product_distribution.get_cardinality([var])[var]):\n",
        "                tem_values += pd_values[j]\n",
        "            pd_values = tem_values\n",
        "\n",
        "    Joint_p = pd_values\n",
        "    return Joint_p"
      ],
      "execution_count": 0,
      "outputs": []
    },
    {
      "cell_type": "code",
      "metadata": {
        "id": "ihwwYQvnnaYA",
        "colab_type": "code",
        "outputId": "9ca67e9c-dad6-4746-e760-00ce5078f196",
        "colab": {
          "base_uri": "https://localhost:8080/",
          "height": 34
        }
      },
      "source": [
        "P = joint_prob_product()\n",
        "print(P)"
      ],
      "execution_count": 52,
      "outputs": [
        {
          "output_type": "stream",
          "text": [
            "0.9208653299999999\n"
          ],
          "name": "stdout"
        }
      ]
    },
    {
      "cell_type": "markdown",
      "metadata": {
        "id": "X8HArleOT6a2",
        "colab_type": "text"
      },
      "source": [
        "## Function - Joint Probability Product : (Factor)"
      ]
    },
    {
      "cell_type": "markdown",
      "metadata": {
        "id": "m1j4QYTWUXvM",
        "colab_type": "text"
      },
      "source": [
        "JPP (Model - Var) > Product Dist - Joint Factor"
      ]
    },
    {
      "cell_type": "code",
      "metadata": {
        "id": "WTG7GO2ZZctl",
        "colab_type": "code",
        "colab": {}
      },
      "source": [
        "def joint_factor_calc(model=model):\n",
        "  varis = ['Burglary','Earthquake','JohnCalls']\n",
        "  all_nodes = model.nodes()\n",
        "  factors = defaultdict(list)\n",
        "  all_unique_factors = set()\n",
        "\n",
        "  # Get > CPD > Factor\n",
        "  for node in all_nodes:\n",
        "    cpd = model.get_cpds(node)\n",
        "    cpd = cpd.to_factor()\n",
        "    for var in cpd.scope():\n",
        "      factors[var].append(cpd)\n",
        "\n",
        "  # Get > Factor > Unique Factor\n",
        "      for node in all_nodes:\n",
        "        for factor in factors[node]:\n",
        "          if not {factor}.intersection(all_unique_factors):\n",
        "            all_unique_factors.add(factor)\n",
        "\n",
        "  # Prod Dist. > Type Var. + PD Value > Joint Factor\n",
        "  product_distribution = reduce(lambda dist1, dist2: dist1 * dist2, all_unique_factors)\n",
        "  joint_factor = product_distribution.marginalize(list(set(all_nodes) - set(varis)), inplace=False)\n",
        "\n",
        "  return joint_factor \n",
        "#print(product_distribution)        "
      ],
      "execution_count": 0,
      "outputs": []
    },
    {
      "cell_type": "code",
      "metadata": {
        "id": "S0RYT1_gdNE0",
        "colab_type": "code",
        "outputId": "44d17dea-7764-4418-80c7-a7efe090cf2e",
        "colab": {
          "base_uri": "https://localhost:8080/",
          "height": 369
        }
      },
      "source": [
        "vari_type = [1,1,1]\n",
        "j_f = joint_factor_calc()\n",
        "print(j_f)\n",
        "print(j_f.values[vari_type[0]][vari_type[1]][vari_type[2]])\n",
        "# 'Burglary','Earthquake','JohnCalls'"
      ],
      "execution_count": 55,
      "outputs": [
        {
          "output_type": "stream",
          "text": [
            "+-----------------+-------------------+------------------+--------------------------------------+\n",
            "| Burglary        | Earthquake        | JohnCalls        |   phi(Burglary,Earthquake,JohnCalls) |\n",
            "+=================+===================+==================+======================================+\n",
            "| Burglary(True)  | Earthquake(True)  | JohnCalls(True)  |                               0.0002 |\n",
            "+-----------------+-------------------+------------------+--------------------------------------+\n",
            "| Burglary(True)  | Earthquake(True)  | JohnCalls(False) |                               0.0000 |\n",
            "+-----------------+-------------------+------------------+--------------------------------------+\n",
            "| Burglary(True)  | Earthquake(False) | JohnCalls(True)  |                               0.0083 |\n",
            "+-----------------+-------------------+------------------+--------------------------------------+\n",
            "| Burglary(True)  | Earthquake(False) | JohnCalls(False) |                               0.0015 |\n",
            "+-----------------+-------------------+------------------+--------------------------------------+\n",
            "| Burglary(False) | Earthquake(True)  | JohnCalls(True)  |                               0.0059 |\n",
            "+-----------------+-------------------+------------------+--------------------------------------+\n",
            "| Burglary(False) | Earthquake(True)  | JohnCalls(False) |                               0.0139 |\n",
            "+-----------------+-------------------+------------------+--------------------------------------+\n",
            "| Burglary(False) | Earthquake(False) | JohnCalls(True)  |                               0.0493 |\n",
            "+-----------------+-------------------+------------------+--------------------------------------+\n",
            "| Burglary(False) | Earthquake(False) | JohnCalls(False) |                               0.9209 |\n",
            "+-----------------+-------------------+------------------+--------------------------------------+\n",
            "0.9208653299999999\n"
          ],
          "name": "stdout"
        }
      ]
    },
    {
      "cell_type": "markdown",
      "metadata": {
        "id": "604GHPu_Umqw",
        "colab_type": "text"
      },
      "source": [
        "## Function - Joint Probability Distribution :"
      ]
    },
    {
      "cell_type": "markdown",
      "metadata": {
        "id": "yrf1xkT2UrVr",
        "colab_type": "text"
      },
      "source": [
        "JPD (Var, Model) > P"
      ]
    },
    {
      "cell_type": "code",
      "metadata": {
        "id": "gFTObjfMJo-d",
        "colab_type": "code",
        "colab": {}
      },
      "source": [
        "def joint_prob_distribution(model = model):\n",
        "  # 'Burglary':1,'Earthquake':1,'JohnCalls':1\n",
        "  varis = {'Burglary':\"True\",'Earthquake':\"True\",'JohnCalls':\"True\"}\n",
        "  varis_list = list(varis.keys())\n",
        "  print(varis_list)\n",
        "\n",
        "  for i in range(len(varis_list)): \n",
        "    print('The variable which gonna calculate probability:',varis_list[i])\n",
        "    tem_cpd = model.get_cpds(varis_list[i])\n",
        "    tem_dict = {}\n",
        "    tem_vari = copy.deepcopy(varis_list) # copy\n",
        "    tem_vari.remove(varis_list[i])\n",
        "\n",
        "    for k in range(len(tem_vari)): # tem_vari=varis\n",
        "      if tem_vari[k] in tem_dict.keys():\n",
        "        print(\"nope\")\n",
        "      else:\n",
        "        tem_dict.update({tem_vari[k]:varis[tem_vari[k]]})\n",
        "\n",
        "      ex_infer = VariableElimination(model)\n",
        "      prob = ex_infer.query(variables= [varis_list[i]],evidence= tem_dict)\n",
        "      P =  1 * prob.values[0]\n",
        "  return P"
      ],
      "execution_count": 0,
      "outputs": []
    },
    {
      "cell_type": "code",
      "metadata": {
        "id": "i5hqinMSQp2I",
        "colab_type": "code",
        "outputId": "339d3352-1ad5-4dab-ccbd-2ecb787133b6",
        "colab": {
          "base_uri": "https://localhost:8080/",
          "height": 316
        }
      },
      "source": [
        "p = joint_prob_distribution()\n",
        "p"
      ],
      "execution_count": 64,
      "outputs": [
        {
          "output_type": "stream",
          "text": [
            "Finding Elimination Order: : 100%|██████████| 3/3 [00:00<00:00, 871.33it/s]\n",
            "Eliminating: MaryCalls: 100%|██████████| 3/3 [00:00<00:00, 583.03it/s]\n",
            "Finding Elimination Order: : 100%|██████████| 2/2 [00:00<00:00, 494.61it/s]\n",
            "Eliminating: Alarm: 100%|██████████| 2/2 [00:00<00:00, 546.99it/s]\n",
            "Finding Elimination Order: : 100%|██████████| 3/3 [00:00<00:00, 1637.33it/s]\n",
            "Eliminating: MaryCalls: 100%|██████████| 3/3 [00:00<00:00, 580.69it/s]\n",
            "Finding Elimination Order: : 100%|██████████| 2/2 [00:00<00:00, 626.34it/s]\n",
            "Eliminating: Alarm: 100%|██████████| 2/2 [00:00<00:00, 650.28it/s]\n",
            "Finding Elimination Order: : 100%|██████████| 3/3 [00:00<00:00, 1908.82it/s]\n",
            "Eliminating: Alarm: 100%|██████████| 3/3 [00:00<00:00, 629.18it/s]\n",
            "Finding Elimination Order: : 100%|██████████| 2/2 [00:00<00:00, 470.13it/s]\n",
            "Eliminating: Alarm: 100%|██████████| 2/2 [00:00<00:00, 503.76it/s]"
          ],
          "name": "stderr"
        },
        {
          "output_type": "stream",
          "text": [
            "['Burglary', 'Earthquake', 'JohnCalls']\n",
            "The variable which gonna calculate probability: Burglary\n",
            "The variable which gonna calculate probability: Earthquake\n",
            "The variable which gonna calculate probability: JohnCalls\n"
          ],
          "name": "stdout"
        },
        {
          "output_type": "stream",
          "text": [
            "\n"
          ],
          "name": "stderr"
        },
        {
          "output_type": "execute_result",
          "data": {
            "text/plain": [
              "0.8574999999999999"
            ]
          },
          "metadata": {
            "tags": []
          },
          "execution_count": 64
        }
      ]
    },
    {
      "cell_type": "code",
      "metadata": {
        "id": "KcTMpcwLN9-4",
        "colab_type": "code",
        "colab": {}
      },
      "source": [
        ""
      ],
      "execution_count": 0,
      "outputs": []
    },
    {
      "cell_type": "markdown",
      "metadata": {
        "id": "XpAwyEKqPlOQ",
        "colab_type": "text"
      },
      "source": [
        "# Bayesian Network - Sampling"
      ]
    },
    {
      "cell_type": "markdown",
      "metadata": {
        "id": "3YCRMZZU1mou",
        "colab_type": "text"
      },
      "source": [
        "Model > Temp CPD > Value , Card , Parent > Sample (Card,Value)"
      ]
    },
    {
      "cell_type": "code",
      "metadata": {
        "id": "U-xDajr-N977",
        "colab_type": "code",
        "colab": {}
      },
      "source": [
        "def sampling(model = model, num_sample = 10):\n",
        "    sample_dict = {}\n",
        "    num = 0\n",
        "\n",
        "    while num < num_sample:\n",
        "        num += 1\n",
        "        samples = []\n",
        "\n",
        "        for vari in variables:\n",
        "            tem_cpd = model.get_cpds(vari)\n",
        "            vari_value = tem_cpd.values\n",
        "            card = tem_cpd.variable_card\n",
        "            parents = tem_cpd.variables[1:]\n",
        "\n",
        "            if parents:\n",
        "\n",
        "                # Parent\n",
        "                parents_card = []\n",
        "                for parent in parents:\n",
        "                    tem_index = variables.index(parent)\n",
        "                    parents_card.append(samples[tem_index])\n",
        "                #print('all_values',vari_value)\n",
        "\n",
        "                # Value\n",
        "                tem_value = []\n",
        "                for l in range(vari_value.shape[0]):\n",
        "                    anyway = vari_value[l]\n",
        "                    for k in parents_card:\n",
        "                        anyway = anyway[k]\n",
        "                        #print('step value:',anyway)\n",
        "                    tem_value.append(anyway)\n",
        "\n",
        "                # Sample (Card, Value)    \n",
        "                # print('probability:',tem_value)\n",
        "                tem_sample = np.random.choice(card,1,p=tem_value)\n",
        "                samples.append(tem_sample[0]) # Samples[Tem value] OR\n",
        "\n",
        "            else:\n",
        "\n",
        "                tem_sample = np.random.choice(card,1,p=vari_value)\n",
        "                samples.append(tem_sample[0]) # Samples [var value]\n",
        "\n",
        "            tup_samples = tuple(samples)\n",
        "        \n",
        "        if tup_samples in sample_dict.keys():\n",
        "            sample_dict[tup_samples] += 1\n",
        "        else:\n",
        "            sample_dict.update({tup_samples:1})\n",
        "    return sample_dict\n",
        "    "
      ],
      "execution_count": 0,
      "outputs": []
    },
    {
      "cell_type": "code",
      "metadata": {
        "id": "lPUQX6u9N941",
        "colab_type": "code",
        "outputId": "c5212140-1b6d-4a7d-c5f3-97a279cf3acf",
        "colab": {
          "base_uri": "https://localhost:8080/",
          "height": 404
        }
      },
      "source": [
        "all_dict = sampling(num_sample = 10000)\n",
        "all_dict"
      ],
      "execution_count": 23,
      "outputs": [
        {
          "output_type": "execute_result",
          "data": {
            "text/plain": [
              "{(0, 0, 0, 0, 0): 2,\n",
              " (0, 0, 0, 0, 1): 1,\n",
              " (0, 1, 0, 0, 0): 40,\n",
              " (0, 1, 0, 0, 1): 39,\n",
              " (0, 1, 0, 1, 0): 4,\n",
              " (0, 1, 0, 1, 1): 5,\n",
              " (0, 1, 1, 1, 1): 7,\n",
              " (1, 0, 0, 0, 0): 24,\n",
              " (1, 0, 0, 0, 1): 20,\n",
              " (1, 0, 0, 1, 0): 6,\n",
              " (1, 0, 0, 1, 1): 1,\n",
              " (1, 0, 1, 0, 1): 13,\n",
              " (1, 0, 1, 1, 0): 1,\n",
              " (1, 0, 1, 1, 1): 120,\n",
              " (1, 1, 0, 0, 0): 5,\n",
              " (1, 1, 0, 0, 1): 4,\n",
              " (1, 1, 0, 1, 0): 1,\n",
              " (1, 1, 0, 1, 1): 1,\n",
              " (1, 1, 1, 0, 0): 5,\n",
              " (1, 1, 1, 0, 1): 457,\n",
              " (1, 1, 1, 1, 0): 91,\n",
              " (1, 1, 1, 1, 1): 9153}"
            ]
          },
          "metadata": {
            "tags": []
          },
          "execution_count": 23
        }
      ]
    },
    {
      "cell_type": "code",
      "metadata": {
        "id": "d-2NxGlHQWNk",
        "colab_type": "code",
        "outputId": "ed4bc84b-d4bf-480e-c3ac-78e6ea0c442b",
        "colab": {
          "base_uri": "https://localhost:8080/",
          "height": 34
        }
      },
      "source": [
        "variables"
      ],
      "execution_count": 24,
      "outputs": [
        {
          "output_type": "execute_result",
          "data": {
            "text/plain": [
              "['Burglary', 'Earthquake', 'Alarm', 'JohnCalls', 'MaryCalls']"
            ]
          },
          "metadata": {
            "tags": []
          },
          "execution_count": 24
        }
      ]
    },
    {
      "cell_type": "code",
      "metadata": {
        "id": "0NBpDSqRN92d",
        "colab_type": "code",
        "outputId": "99112c04-4d0b-4d87-ffa2-41c36ae51801",
        "colab": {
          "base_uri": "https://localhost:8080/",
          "height": 34
        }
      },
      "source": [
        "dic = {'Burglary':0,'Earthquake':0,'Alarm':0}\n",
        "index = []\n",
        "for vari in dic.keys():\n",
        "    index.append(variables.index(vari))\n",
        "print(index)\n",
        "\n",
        "# ['Burglary', 'Earthquake', 'Alarm', 'JohnCalls', 'MaryCalls']\n",
        "# [ 0 , 1 , 2 , 3 , 4 ]"
      ],
      "execution_count": 26,
      "outputs": [
        {
          "output_type": "stream",
          "text": [
            "[0, 1, 2]\n"
          ],
          "name": "stdout"
        }
      ]
    },
    {
      "cell_type": "code",
      "metadata": {
        "id": "nISNGwq8N90K",
        "colab_type": "code",
        "colab": {}
      },
      "source": [
        "def count_P(varis = variables, all_dic = all_dict,sample_dict = dic,num_sample = 10):\n",
        "    count = 0\n",
        "    for sample in all_dict.keys():\n",
        "        #sample = (1, 0, 0, 0, 0)\n",
        "        tem_dict = {}\n",
        "\n",
        "        for i in range(len(varis)):\n",
        "            if varis[i] in tem_dict.keys():\n",
        "                print('wrong')\n",
        "            else:\n",
        "                tem_dict.update({varis[i]:sample[i]}) #Tem Dic [Var]\n",
        "        if tem_dict.items() & sample_dict.items() == sample_dict.items():\n",
        "            count += all_dic[sample]\n",
        "\n",
        "    P = count/num_sample\n",
        "    return P\n",
        "    \n",
        "#tem_dict\n",
        "    "
      ],
      "execution_count": 0,
      "outputs": []
    },
    {
      "cell_type": "code",
      "metadata": {
        "id": "8ugbjVVlN9xL",
        "colab_type": "code",
        "outputId": "8073f27e-8421-4716-da5a-f599cfa1aa5e",
        "colab": {
          "base_uri": "https://localhost:8080/",
          "height": 34
        }
      },
      "source": [
        "P_psx = count_P(num_sample = 100000)\n",
        "P_psx * 10 # 0.0003"
      ],
      "execution_count": 30,
      "outputs": [
        {
          "output_type": "execute_result",
          "data": {
            "text/plain": [
              "0.00030000000000000003"
            ]
          },
          "metadata": {
            "tags": []
          },
          "execution_count": 30
        }
      ]
    },
    {
      "cell_type": "code",
      "metadata": {
        "id": "FaLEbHUxN9ud",
        "colab_type": "code",
        "outputId": "c83cb4fb-6731-41d5-c707-73af1edb0ea8",
        "colab": {
          "base_uri": "https://localhost:8080/",
          "height": 265
        }
      },
      "source": [
        "P_list =[]\n",
        "num_epoch = 1000\n",
        "X = np.arange(50,num_epoch,10)\n",
        "# X = np.arange(25,1000,20)\n",
        "\n",
        "for num in range(50,num_epoch,10):\n",
        "\n",
        "    dic = {'Burglary':1,'Earthquake':1,'JohnCalls':1}\n",
        "    all_dict = sampling(num_sample = num)\n",
        "    P = count_P(all_dic=all_dict,sample_dict = dic,num_sample = num)\n",
        "    P_list.append(P)\n",
        "\n",
        "\n",
        "plt.figure()\n",
        "plt.plot(X,P_list)\n",
        "plt.show()"
      ],
      "execution_count": 33,
      "outputs": [
        {
          "output_type": "display_data",
          "data": {
            "image/png": "[encoded data removed]",
            "text/plain": [
              "<Figure size 432x288 with 1 Axes>"
            ]
          },
          "metadata": {
            "tags": [],
            "needs_background": "light"
          }
        }
      ]
    },
    {
      "cell_type": "code",
      "metadata": {
        "id": "1_UR1R_pRQ8K",
        "colab_type": "code",
        "outputId": "b979c203-de30-4aee-d4f1-e1caa7a413c7",
        "colab": {
          "base_uri": "https://localhost:8080/",
          "height": 34
        }
      },
      "source": [
        "num_epoch = 100000\n",
        "a = []\n",
        "X = np.arange(1,num_epoch,2000)\n",
        "print(len(X))"
      ],
      "execution_count": 0,
      "outputs": [
        {
          "output_type": "stream",
          "text": [
            "50\n"
          ],
          "name": "stdout"
        }
      ]
    },
    {
      "cell_type": "code",
      "metadata": {
        "id": "4bJF5nszRuuP",
        "colab_type": "code",
        "colab": {}
      },
      "source": [
        ""
      ],
      "execution_count": 0,
      "outputs": []
    },
    {
      "cell_type": "markdown",
      "metadata": {
        "id": "h_z2MTRjWVKY",
        "colab_type": "text"
      },
      "source": [
        "# Testo: Asia Data"
      ]
    },
    {
      "cell_type": "code",
      "metadata": {
        "id": "GiMIEciQWM2Z",
        "colab_type": "code",
        "colab": {}
      },
      "source": [
        "asia_path = 'drive/My Drive/Colab Notebooks/Data/asia.bif'\n",
        "asia = readwrite.BIF.BIFReader(asia_path)"
      ],
      "execution_count": 0,
      "outputs": []
    },
    {
      "cell_type": "code",
      "metadata": {
        "id": "XctYdoBXWNwD",
        "colab_type": "code",
        "outputId": "f0cb087b-49fa-4ccd-bc96-8381e512ee6c",
        "colab": {
          "base_uri": "https://localhost:8080/"
        }
      },
      "source": [
        "variables_asia = asia.get_variables()\n",
        "print(variables_asia)\n",
        "asia_model = asia.get_model()"
      ],
      "execution_count": 0,
      "outputs": [
        {
          "output_type": "stream",
          "text": [
            "['asia', 'tub', 'smoke', 'lung', 'bronc', 'either', 'xray', 'dysp']\n"
          ],
          "name": "stdout"
        }
      ]
    },
    {
      "cell_type": "code",
      "metadata": {
        "id": "lmXx7I28WRT3",
        "colab_type": "code",
        "outputId": "428f8fc5-f07d-4678-d4f0-c1227415c110",
        "colab": {
          "base_uri": "https://localhost:8080/"
        }
      },
      "source": [
        "cpd_asia = asia_model.get_cpds('asia')\n",
        "cpd_tub =asia_model.get_cpds('tub')\n",
        "cpd_smoke = asia_model.get_cpds('smoke')\n",
        "cpd_lung = asia_model.get_cpds('lung')\n",
        "cpd_bronc = asia_model.get_cpds('bronc')\n",
        "cpd_either = asia_model.get_cpds('either')\n",
        "cpd_xray = asia_model.get_cpds('xray')\n",
        "cpd_dysp = asia_model.get_cpds('dysp')\n",
        "\n",
        "print(cpd_asia )\n",
        "print(cpd_tub)\n",
        "print(cpd_smoke)\n",
        "print(cpd_lung)\n",
        "print(cpd_bronc)\n",
        "print(cpd_either)\n",
        "print(cpd_xray)\n",
        "print(cpd_dysp)"
      ],
      "execution_count": 0,
      "outputs": [
        {
          "output_type": "stream",
          "text": [
            "+-----------+------+\n",
            "| asia(yes) | 0.01 |\n",
            "+-----------+------+\n",
            "| asia(no)  | 0.99 |\n",
            "+-----------+------+\n",
            "+----------+-----------+----------+\n",
            "| asia     | asia(yes) | asia(no) |\n",
            "+----------+-----------+----------+\n",
            "| tub(yes) | 0.05      | 0.01     |\n",
            "+----------+-----------+----------+\n",
            "| tub(no)  | 0.95      | 0.99     |\n",
            "+----------+-----------+----------+\n",
            "+------------+-----+\n",
            "| smoke(yes) | 0.5 |\n",
            "+------------+-----+\n",
            "| smoke(no)  | 0.5 |\n",
            "+------------+-----+\n",
            "+-----------+------------+-----------+\n",
            "| smoke     | smoke(yes) | smoke(no) |\n",
            "+-----------+------------+-----------+\n",
            "| lung(yes) | 0.1        | 0.01      |\n",
            "+-----------+------------+-----------+\n",
            "| lung(no)  | 0.9        | 0.99      |\n",
            "+-----------+------------+-----------+\n",
            "+------------+------------+-----------+\n",
            "| smoke      | smoke(yes) | smoke(no) |\n",
            "+------------+------------+-----------+\n",
            "| bronc(yes) | 0.6        | 0.3       |\n",
            "+------------+------------+-----------+\n",
            "| bronc(no)  | 0.4        | 0.7       |\n",
            "+------------+------------+-----------+\n",
            "+-------------+-----------+-----------+----------+----------+\n",
            "| lung        | lung(yes) | lung(yes) | lung(no) | lung(no) |\n",
            "+-------------+-----------+-----------+----------+----------+\n",
            "| tub         | tub(yes)  | tub(no)   | tub(yes) | tub(no)  |\n",
            "+-------------+-----------+-----------+----------+----------+\n",
            "| either(yes) | 1.0       | 1.0       | 1.0      | 0.0      |\n",
            "+-------------+-----------+-----------+----------+----------+\n",
            "| either(no)  | 0.0       | 0.0       | 0.0      | 1.0      |\n",
            "+-------------+-----------+-----------+----------+----------+\n",
            "+-----------+-------------+------------+\n",
            "| either    | either(yes) | either(no) |\n",
            "+-----------+-------------+------------+\n",
            "| xray(yes) | 0.98        | 0.05       |\n",
            "+-----------+-------------+------------+\n",
            "| xray(no)  | 0.02        | 0.95       |\n",
            "+-----------+-------------+------------+\n",
            "+-----------+-------------+------------+-------------+------------+\n",
            "| bronc     | bronc(yes)  | bronc(yes) | bronc(no)   | bronc(no)  |\n",
            "+-----------+-------------+------------+-------------+------------+\n",
            "| either    | either(yes) | either(no) | either(yes) | either(no) |\n",
            "+-----------+-------------+------------+-------------+------------+\n",
            "| dysp(yes) | 0.9         | 0.8        | 0.7         | 0.1        |\n",
            "+-----------+-------------+------------+-------------+------------+\n",
            "| dysp(no)  | 0.1         | 0.2        | 0.3         | 0.9        |\n",
            "+-----------+-------------+------------+-------------+------------+\n"
          ],
          "name": "stdout"
        }
      ]
    },
    {
      "cell_type": "code",
      "metadata": {
        "id": "sBujf7YEWTKK",
        "colab_type": "code",
        "colab": {}
      },
      "source": [
        ""
      ],
      "execution_count": 0,
      "outputs": []
    }
  ]
}