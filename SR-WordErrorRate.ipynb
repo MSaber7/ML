{
  "nbformat": 4,
  "nbformat_minor": 0,
  "metadata": {
    "colab": {
      "name": "SR-WordErrorRate.ipynb",
      "provenance": [],
      "collapsed_sections": [],
      "toc_visible": true,
      "authorship_tag": "ABX9TyNWJLsHcT+Bealhkt9GV4Ov",
      "include_colab_link": true
    },
    "kernelspec": {
      "name": "python3",
      "display_name": "Python 3"
    }
  },
  "cells": [
    {
      "cell_type": "markdown",
      "metadata": {
        "id": "view-in-github",
        "colab_type": "text"
      },
      "source": [
        "<a href=\"https://colab.research.google.com/github/MSaber7/Machine-Learning/blob/master/SR-WordErrorRate.ipynb\" target=\"_parent\"><img src=\"https://colab.research.google.com/assets/colab-badge.svg\" alt=\"Open In Colab\"/></a>"
      ]
    },
    {
      "cell_type": "markdown",
      "metadata": {
        "id": "qHU8ZE2NY2k8",
        "colab_type": "text"
      },
      "source": [
        "# SR | Lab One: Word Error Rate (WER)"
      ]
    },
    {
      "cell_type": "markdown",
      "metadata": {
        "id": "zbip-6RIYNEY",
        "colab_type": "text"
      },
      "source": [
        "Each string of files ref.trn and contains independent reference and hypothesis made by some model\n",
        "\n",
        "File wer.py contains the realization of Levenstein Distance, which are implemented by function string_edit_distance. Please read the annotation of this function carefully and use it in your code. \n",
        "\n",
        "Your task is to write a Python 3 script, which iterates through hypothesis in file hyp.trn and computes its Word Error Rate (WER) with corresponding reference in file ref.trn. For each string in hyp.trn, code should print its WER to string in ref.trn.\n"
      ]
    },
    {
      "cell_type": "code",
      "metadata": {
        "id": "Ncd3GLFrVGOU",
        "colab_type": "code",
        "colab": {}
      },
      "source": [
        "import numpy as np"
      ],
      "execution_count": 0,
      "outputs": []
    },
    {
      "cell_type": "markdown",
      "metadata": {
        "id": "p_NBITuEYkrw",
        "colab_type": "text"
      },
      "source": [
        "## Levenstein Distance"
      ]
    },
    {
      "cell_type": "code",
      "metadata": {
        "id": "-RzsUlgRVGKt",
        "colab_type": "code",
        "colab": {}
      },
      "source": [
        "def string_edit_distance(ref=None, hyp=None):\n",
        "\n",
        "    if ref is None or hyp is None:\n",
        "        RuntimeError(\"ref and hyp are required, cannot be None\")\n",
        "\n",
        "    x = ref\n",
        "    y = hyp\n",
        "    tokens = len(x)\n",
        "    if (len(hyp)==0):\n",
        "        return (tokens, tokens, tokens, 0, 0)\n",
        "\n",
        "    # p[ix,iy] consumed ix tokens from x, iy tokens from y\n",
        "    p = np.PINF * np.ones((len(x) + 1, len(y) + 1)) # track total errors\n",
        "    e = np.zeros((len(x)+1, len(y) + 1, 3), dtype=np.int) # track deletions, insertions, substitutions\n",
        "    p[0] = 0\n",
        "    for ix in range(len(x) + 1):\n",
        "        for iy in range(len(y) + 1):\n",
        "            cst = np.PINF*np.ones([3])\n",
        "            s = 0\n",
        "            if ix > 0:\n",
        "                cst[0] = p[ix - 1, iy] + 1 # deletion cost\n",
        "            if iy > 0:\n",
        "                cst[1] = p[ix, iy - 1] + 1 # insertion cost\n",
        "            if ix > 0 and iy > 0:\n",
        "                s = (1 if x[ix - 1] != y[iy -1] else 0)\n",
        "                cst[2] = p[ix - 1, iy - 1] + s # substitution cost\n",
        "            if ix > 0 or iy > 0:\n",
        "                idx = np.argmin(cst) # if tied, one that occurs first wins\n",
        "                p[ix, iy] = cst[idx]\n",
        "\n",
        "                if (idx==0): # deletion\n",
        "                    e[ix, iy, :] = e[ix - 1, iy, :]\n",
        "                    e[ix, iy, 0] += 1\n",
        "                elif (idx==1): # insertion\n",
        "                    e[ix, iy, :] = e[ix, iy - 1, :]\n",
        "                    e[ix, iy, 1] += 1\n",
        "                elif (idx==2): # substitution\n",
        "                    e[ix, iy, :] = e[ix - 1, iy - 1, :]\n",
        "                    e[ix, iy, 2] += s\n",
        "\n",
        "    edits = int(p[-1,-1])\n",
        "    deletions, insertions, substitutions = e[-1, -1, :]\n",
        "    return (tokens, edits, deletions, insertions, substitutions)"
      ],
      "execution_count": 0,
      "outputs": []
    },
    {
      "cell_type": "code",
      "metadata": {
        "id": "Q1lMOBEUWE3y",
        "colab_type": "code",
        "outputId": "4a8ae8bb-bd52-42b3-9670-d77f2cba87ae",
        "colab": {
          "base_uri": "https://localhost:8080/",
          "height": 125
        }
      },
      "source": [
        "from google.colab import drive\n",
        "drive.mount('/content/drive')"
      ],
      "execution_count": 0,
      "outputs": [
        {
          "output_type": "stream",
          "text": [
            "Go to this URL in a browser: https://accounts.google.com/o/oauth2/auth?client_id=947318989803-6bn6qk8qdgf4n4g3pfee6491hc0brc4i.apps.googleusercontent.com&redirect_uri=urn%3aietf%3awg%3aoauth%3a2.0%3aoob&response_type=code&scope=email%20https%3a%2f%2fwww.googleapis.com%2fauth%2fdocs.test%20https%3a%2f%2fwww.googleapis.com%2fauth%2fdrive%20https%3a%2f%2fwww.googleapis.com%2fauth%2fdrive.photos.readonly%20https%3a%2f%2fwww.googleapis.com%2fauth%2fpeopleapi.readonly\n",
            "\n",
            "Enter your authorization code:\n",
            "··········\n",
            "Mounted at /content/drive\n"
          ],
          "name": "stdout"
        }
      ]
    },
    {
      "cell_type": "code",
      "metadata": {
        "id": "nYBrg5HkXdUp",
        "colab_type": "code",
        "outputId": "52238757-f892-4f2c-ffb1-5fff2ff901ed",
        "colab": {
          "base_uri": "https://localhost:8080/",
          "height": 34
        }
      },
      "source": [
        "%cd/content/drive/My Drive/Colab Notebooks/SR/Lab1"
      ],
      "execution_count": 0,
      "outputs": [
        {
          "output_type": "stream",
          "text": [
            "/content/drive/My Drive/Colab Notebooks/SR/Lab1\n"
          ],
          "name": "stdout"
        }
      ]
    },
    {
      "cell_type": "markdown",
      "metadata": {
        "id": "caAOgb6gZQIP",
        "colab_type": "text"
      },
      "source": [
        "### Read File (Ref / Hyp)"
      ]
    },
    {
      "cell_type": "code",
      "metadata": {
        "id": "wpawonwbXYvA",
        "colab_type": "code",
        "colab": {}
      },
      "source": [
        "filename1 = open('reference.txt', 'r')\n",
        "filename2 = open('hypothesis.txt', 'r')"
      ],
      "execution_count": 0,
      "outputs": []
    },
    {
      "cell_type": "code",
      "metadata": {
        "id": "7niL7BelXtEH",
        "colab_type": "code",
        "colab": {}
      },
      "source": [
        "#Print(len(filename2.read().split()))\n",
        "ref = filename1.read().split()\n",
        "hyp = filename2.read().split()"
      ],
      "execution_count": 0,
      "outputs": []
    },
    {
      "cell_type": "code",
      "metadata": {
        "id": "-te_nW0cXy52",
        "colab_type": "code",
        "colab": {}
      },
      "source": [
        "ref, hyp"
      ],
      "execution_count": 0,
      "outputs": []
    },
    {
      "cell_type": "code",
      "metadata": {
        "id": "obKSJsXwZ03w",
        "colab_type": "code",
        "colab": {}
      },
      "source": [
        "# Reference\n",
        "# apple banana coconut date eggplant fig (0000-000000-0000)\n",
        "# one two three four five six (0000-000000-0001)\n",
        "# delaware pennsylvania new_jersey georgia connecticut massachusetts (0000-00000-0002)"
      ],
      "execution_count": 0,
      "outputs": []
    },
    {
      "cell_type": "code",
      "metadata": {
        "id": "mM6qsgldaCtp",
        "colab_type": "code",
        "colab": {}
      },
      "source": [
        "# Hypothesis\n",
        "# apple coconut date eggplant elephant fig (0000-000000-0000)\n",
        "# one tiger three flamingo five six (0000-000000-0001)\n",
        "# delaware cat georgia dog mouse massachusetts (0000-00000-0002)"
      ],
      "execution_count": 0,
      "outputs": []
    },
    {
      "cell_type": "markdown",
      "metadata": {
        "id": "ehTVrRGKZE-H",
        "colab_type": "text"
      },
      "source": [
        " ### Computes its Word Error Rate"
      ]
    },
    {
      "cell_type": "code",
      "metadata": {
        "id": "ccH9eftAX6r4",
        "colab_type": "code",
        "outputId": "863bd7cc-f101-4f3e-92a2-0afb493deca3",
        "colab": {
          "base_uri": "https://localhost:8080/",
          "height": 34
        }
      },
      "source": [
        "#Print(len(ref))\n",
        "t, e, d, i, s = string_edit_distance(ref, hyp)\n",
        "print(t)"
      ],
      "execution_count": 0,
      "outputs": [
        {
          "output_type": "stream",
          "text": [
            "21\n"
          ],
          "name": "stdout"
        }
      ]
    },
    {
      "cell_type": "code",
      "metadata": {
        "id": "tQ4VePERapd6",
        "colab_type": "code",
        "outputId": "152219ac-b1de-4cd5-db9f-e3099520335d",
        "colab": {
          "base_uri": "https://localhost:8080/",
          "height": 105
        }
      },
      "source": [
        "print ('Tokens : ', t)\n",
        "print ('Edits : ', e)\n",
        "print ('Deletions : ', d)\n",
        "print ('Insertion : ' , i)\n",
        "print ('Substitutions : ' , s)"
      ],
      "execution_count": 0,
      "outputs": [
        {
          "output_type": "stream",
          "text": [
            "Tokens :  21\n",
            "Edits :  8\n",
            "Deletions :  2\n",
            "Insertion :  2\n",
            "Substitutions :  4\n"
          ],
          "name": "stdout"
        }
      ]
    },
    {
      "cell_type": "code",
      "metadata": {
        "id": "2_qESnu0VxRl",
        "colab_type": "code",
        "outputId": "365c34de-7a9f-4f61-aded-82b1ed627eb3",
        "colab": {
          "base_uri": "https://localhost:8080/",
          "height": 34
        }
      },
      "source": [
        "wer = (d + i + s)\n",
        "print('Word Error Rate : ' , wer)"
      ],
      "execution_count": 0,
      "outputs": [
        {
          "output_type": "stream",
          "text": [
            "Word Error Rate :  8\n"
          ],
          "name": "stdout"
        }
      ]
    },
    {
      "cell_type": "code",
      "metadata": {
        "id": "LEYocxVWVwtg",
        "colab_type": "code",
        "colab": {}
      },
      "source": [
        ""
      ],
      "execution_count": 0,
      "outputs": []
    }
  ]
}